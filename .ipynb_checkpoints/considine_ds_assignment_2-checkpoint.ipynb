{
 "cells": [
  {
   "cell_type": "markdown",
   "metadata": {},
   "source": [
    "# DS - Assignment 2\n",
    "\n",
    "This assignment includes questions about data cleaning, extraction and manipulation using Pandas. You will be using an interesting dataset, containing information about national flags. The dataset gets loaded in a dataframe when you run the first cell, and then you can proceed with the questions. \n",
    "\n",
    "**For specific information about the dataset, take a look here: https://archive.ics.uci.edu/ml/machine-learning-databases/flags/flag.names. Answer the questions bellow, and print the results.**\n",
    "\n",
    "\n",
    "*You will need an additional library for this assignment, so before starting use the following command, as you did before:*\n",
    "\n",
    "*pip install requests*"
   ]
  },
  {
   "cell_type": "code",
   "execution_count": 6,
   "metadata": {},
   "outputs": [],
   "source": [
    "# Run the following code to import the dataset to the df (dataframe)\n",
    "# Do not change this cell!\n",
    "%matplotlib inline\n",
    "import pandas as pd\n",
    "import requests\n",
    "import io\n",
    "\n",
    "csv = requests.get('https://archive.ics.uci.edu/ml/machine-learning-databases/flags/flag.data').content\n",
    "df = pd.read_csv(io.StringIO(csv.decode('utf-8')), header=None)"
   ]
  },
  {
   "cell_type": "code",
   "execution_count": 9,
   "metadata": {},
   "outputs": [
    {
     "name": "stdout",
     "output_type": "stream",
     "text": [
      "RangeIndex(start=0, stop=194, step=1)\n",
      "Int64Index([ 0,  1,  2,  3,  4,  5,  6,  7,  8,  9, 10, 11, 12, 13, 14, 15, 16,\n",
      "            17, 18, 19, 20, 21, 22, 23, 24, 25, 26, 27, 28, 29],\n",
      "           dtype='int64')\n"
     ]
    }
   ],
   "source": [
    "# Question 1: Print the total number of rows and columns of the dataset, \n",
    "# as well as the first few rows (using the specified method for that)\n",
    "print df.index\n",
    "# print df.columns"
   ]
  },
  {
   "cell_type": "code",
   "execution_count": null,
   "metadata": {},
   "outputs": [],
   "source": [
    "# Question 2: This dataset does not contain any labels. The list bellow \n",
    "# contains the labels in the correct order. Find a way to add them to the dataframe,\n",
    "# and then print the first few rows again to show the labels.\n",
    "labels = ['name', 'landmass', 'zone', 'area', 'population', 'language', 'religion', 'bars', 'stripes', 'colours', 'red', \n",
    "          'green', 'blue', 'gold', 'white', 'black', 'orange', 'mainhue', 'circles', 'crosses', 'saltires', 'quarters', \n",
    "          'sunstars', 'crescent', 'triangle', 'icon', 'animate', 'text', 'topleft', 'botright']"
   ]
  },
  {
   "cell_type": "code",
   "execution_count": null,
   "metadata": {},
   "outputs": [],
   "source": [
    "# Question 3: Check if the dataset has any NaNs, and if so, show the lines that do.\n",
    "df.isnull().values.any()"
   ]
  },
  {
   "cell_type": "code",
   "execution_count": null,
   "metadata": {},
   "outputs": [],
   "source": [
    "# Question 4: As you can see in the link provided above, the landmass label has 6 values, that correspond to:\n",
    "# 1=N.America, 2=S.America, 3=Europe, 4=Africa, 4=Asia, 6=Oceania. Replace the landmass column values, \n",
    "# with their names from the list above"
   ]
  },
  {
   "cell_type": "code",
   "execution_count": null,
   "metadata": {},
   "outputs": [],
   "source": [
    "# Question 5: The area is in 'in thousands of square km'. Transform it in square km."
   ]
  },
  {
   "cell_type": "code",
   "execution_count": null,
   "metadata": {
    "scrolled": true
   },
   "outputs": [],
   "source": [
    "# Questions 6-9: Find all the flags that:\n",
    "# - have a population of more than 100 million people (inclusive)\n",
    "# - have an area of less than 1000 square km\n",
    "# - have NO bars and NO stripes\n",
    "# - are in Oceania"
   ]
  },
  {
   "cell_type": "code",
   "execution_count": null,
   "metadata": {},
   "outputs": [],
   "source": [
    "# Question 10: Find the population counts of the countries \n",
    "# (this means, the number of countries that had 3 million people, 10 million people, etc, using only existing values)\n",
    "# and plot a bar chart of the 10 first results.\n",
    "\n",
    "# HINT: Remember that pandas has its own simple plot() function, and that you need a bar chart.\n",
    "# Also try to find the pandas function that returns the counts, do not do it by hand!"
   ]
  },
  {
   "cell_type": "markdown",
   "metadata": {},
   "source": [
    "#### Project\n",
    "\n",
    "Imagine we need to use this dataset for some machine learning purposes. And in the real world, 80% of the job is cleaning and transforming the data.\n",
    "\n",
    "We need to create a way to show which color combinations are the most common. To simplify it, we will do it just in pairs, so we will only check the colors by 2 e.g red-white, red-blue, red-gold, etc. Then we will find the top 5 combinations and plot them in a bar chart.\n",
    "\n",
    "##### General instructions:\n",
    " - Create a new dataframe keeping only the color labels.\n",
    " - Add new columns in this dataframe by combining the features by 2. DO NOT duplicate the data, e.g red-gold is the same as gold-red, so you need to check for this when creating the dataframe\n",
    " - If a combination exists in the dataframe, add 1 to the combination column.\n",
    " - Plot the top 5 combinations.\n",
    " \n",
    "*Important! Do not do the pairs by hand, as in most cases you can have datasets of hundreds of features so this is not feasible. Automate the procedure of pairing, and checking if the pair exists.*\n"
   ]
  },
  {
   "cell_type": "code",
   "execution_count": null,
   "metadata": {
    "collapsed": true
   },
   "outputs": [],
   "source": [
    "colors = ['red', 'green', 'blue', 'gold', 'white', 'black', 'orange']"
   ]
  }
 ],
 "metadata": {
  "kernelspec": {
   "display_name": "Python 2",
   "language": "python",
   "name": "python2"
  },
  "language_info": {
   "codemirror_mode": {
    "name": "ipython",
    "version": 2
   },
   "file_extension": ".py",
   "mimetype": "text/x-python",
   "name": "python",
   "nbconvert_exporter": "python",
   "pygments_lexer": "ipython2",
   "version": "2.7.14"
  }
 },
 "nbformat": 4,
 "nbformat_minor": 2
}
