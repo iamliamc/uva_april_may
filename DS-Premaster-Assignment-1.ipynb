{
 "cells": [
  {
   "cell_type": "markdown",
   "metadata": {},
   "source": [
    "## Programming for Data Science 2016-2017\n",
    "### Assignment 1: Python Programming\n",
    "\n",
    "This assignment consists of 3 different excercises, of advancing difficulty. You can use those in order to evaluate your progress. For any questions, you can use the Piazza Forum, here: https://piazza.com/class/j0rthxy0m3p6vq"
   ]
  },
  {
   "cell_type": "markdown",
   "metadata": {},
   "source": [
    "### Excersise 1\n",
    "\n",
    "This excercise will test your knowledge of basic data structures.\n",
    "\n",
    "*Implement the required functionality.*"
   ]
  },
  {
   "cell_type": "code",
   "execution_count": null,
   "metadata": {},
   "outputs": [],
   "source": [
    "animals = [\n",
    "    {'name': 'cat', 'legs': 4},\n",
    "    {'name': 'dog', 'legs': 4},\n",
    "    {'name': 'pelican', 'legs': 2},\n",
    "    {'name': 'snake', 'legs': 0},\n",
    "    {'name': 'ox', 'legs': 4}\n",
    "]\n",
    "\n",
    "import sys\n",
    "print(sys.version)\n",
    "\n",
    "# print the names of all the animals who have 4 legs\n",
    "\n",
    "for entry in animals:\n",
    "    if entry['legs']==4:\n",
    "        print entry['name']\n",
    "\n",
    "# print the total number of animals in the 'animals' list\n",
    "\n",
    "print len(animals)\n",
    "\n",
    "# print all the animals names that are 3 characters or less in length\n",
    "for entry in animals:\n",
    "    if len(entry['name']) < 3:\n",
    "        print entry['name']"
   ]
  },
  {
   "cell_type": "markdown",
   "metadata": {},
   "source": [
    "### Excersise 2\n",
    "\n",
    "This excercise will test your understanding of functions, iterators, list comprehensions, if statements, and other basic building blocks of the python language.\n",
    "\n",
    "*Implement each function, according to the instructions.*"
   ]
  },
  {
   "cell_type": "code",
   "execution_count": null,
   "metadata": {},
   "outputs": [],
   "source": [
    "def square(num_list):\n",
    "    \"\"\"\n",
    "    Accepts a list of numbers, and returns a list of the same numbers squared.\n",
    "    e.g. [1, 2, 3] -> [1, 4, 9]\n",
    "    \"\"\"\n",
    "    squared_list = []\n",
    "    for x in num_list:\n",
    "        squared_list.append(x**2)\n",
    "    \n",
    "    return squared_list\n",
    "\n",
    "def square_list_comprehension(num_list):\n",
    "    return [i ** 2 for i in num_list]\n",
    "\n",
    "print square([1, 2, 3])\n",
    "print square([1, 4, 9])\n",
    "print square_list_comprehension([1, 2, 3])\n",
    "print square_list_comprehension([6, 12, 24])"
   ]
  },
  {
   "cell_type": "code",
   "execution_count": null,
   "metadata": {},
   "outputs": [],
   "source": [
    "def sum_list(num_list):\n",
    "    \"\"\"\n",
    "    Accepts a list and returns the sum of its elements. !Do not use Python's sum() function!\n",
    "    e.g. [1, 2, 3] -> 6\n",
    "    \"\"\"\n",
    "    \n",
    "    sum_of_list = 0\n",
    "    for x in num_list:\n",
    "        sum_of_list += x\n",
    "        \n",
    "    return sum_of_list\n",
    "\n",
    "sum_list([1, 2, 3])"
   ]
  },
  {
   "cell_type": "code",
   "execution_count": null,
   "metadata": {},
   "outputs": [],
   "source": [
    "# experiment with zip \n",
    "# print zip([1, 2, 3], [4, 5, 6])\n",
    "\n",
    "def add(list_a, list_b):\n",
    "    \"\"\"\n",
    "    Accepts 2 lists, and returns a list of the sum of the lists, element-wise.\n",
    "    e.g. add([1, 2, 3], [1, 1, 1]) -> [2, 3, 4]\n",
    "    \"\"\"\n",
    "    if len(list_a) != len(list_b):\n",
    "        print \"Lists are not the same length!\"\n",
    "        return\n",
    "    \n",
    "    return [sum(x) for x in zip(list_a, list_b)]\n",
    "\n",
    "print add([1, 2, 3], [1, 1, 1])\n",
    "print add([11, 22, 33], [1, 1, 1])\n",
    "\n"
   ]
  },
  {
   "cell_type": "code",
   "execution_count": null,
   "metadata": {},
   "outputs": [],
   "source": [
    "# print enumerate([\"hi\", \"hello\"])\n",
    "# print \"%d - %s\" % (1, \"hi\")\n",
    "\n",
    "def add_index(str_list):\n",
    "    \"\"\"\n",
    "    Accepts a list of strings and returns a list with the strings and their index.\n",
    "    e.g. ['hello', 'world'] -> ['1 - hello', '2 - world']\n",
    "    \"\"\"\n",
    "    list_with_indexes = []\n",
    "    for index, item in enumerate(str_list):\n",
    "        list_with_indexes.append(\"%d - %s\" % (index, item))\n",
    "    return list_with_indexes\n",
    "\n",
    "add_index(['hello', 'world', 'sun'])"
   ]
  },
  {
   "cell_type": "code",
   "execution_count": null,
   "metadata": {},
   "outputs": [],
   "source": [
    "def minmax(num_list):\n",
    "    \"\"\"\n",
    "    Accepts a list and returns 2 values: the minimum and the maximum of the list.\n",
    "    e.g. [1, 2, 3, 4, 5] -> (1, 5)\n",
    "    \"\"\"\n",
    "    \n",
    "    list_min = min(num_list)\n",
    "    list_max = max(num_list)\n",
    "    return list_min, list_max\n",
    "\n",
    "minmax([1, 2, 3, 4, 5])\n",
    "minmax([-11, 2, 23, 4, 5])"
   ]
  },
  {
   "cell_type": "code",
   "execution_count": null,
   "metadata": {},
   "outputs": [],
   "source": [
    "def even(num_list):\n",
    "    \"\"\"\n",
    "    Accepts a list of numbers and returns a list of the even items of the list.\n",
    "    e.g. [1, 2, 3, 4] -> [2, 4]\n",
    "    \"\"\"\n",
    "    \n",
    "    even_list = [i for i in num_list if i % 2 == 0]\n",
    "    return even_list\n",
    "even ([1, 2, 3, 4])"
   ]
  },
  {
   "cell_type": "code",
   "execution_count": null,
   "metadata": {},
   "outputs": [],
   "source": [
    "def odd(num_list):\n",
    "    \"\"\"\n",
    "    Accepts a list of numbers and returns the odd items. However, implement it using the even() function!\n",
    "    e.g. [1, 2, 3, 4] -> [1, 3]\n",
    "    \"\"\"\n",
    "    \n",
    "    odd_list = [i for i in num_list if i % 2 == 1]\n",
    "    return odd_list\n",
    "odd([1, 2, 3, 4])"
   ]
  },
  {
   "cell_type": "markdown",
   "metadata": {},
   "source": [
    "### Excersise 3\n",
    "\n",
    "In this escercise you will implement the basic functionality of a query language, let's say Data Science Query Language. This language provides results regarding machine learning algorithms. Your job is to write a simple select query, that will return all the attributes the user asks.\n",
    " \n",
    "e.g. `select name` should return\n",
    "\n",
    "```\n",
    "K-Means\n",
    "MeanShift\n",
    "KNN\n",
    "SVC\n",
    "Lasso\n",
    "SVR\n",
    "```\n",
    "\n",
    "e.g. `select name type` should return\n",
    "\n",
    "```\n",
    "K-Means clustering\n",
    "MeanShift clustering\n",
    "KNN classification\n",
    "SVC classification\n",
    "Lasso regression\n",
    "SVR regression\n",
    "```\n",
    "\n",
    "The user will be able to provide the query using the raw_input, which will be implemented for you. You should implement the functionality needed, so that you can read the attribute names, and return the information of those exact attribute names from the dictionary 'dsql_table'. The query should work like this:\n",
    " - first word is always 'select';\n",
    " - then follows a list of the attributes the user wants to see.\n",
    " - It will close the dsql prompt by typing 'exit'\n",
    " \n",
    "\n",
    "In order to simplify this excercise, we will avoid all error handling and just put everything in a generic try-except block.\n",
    "\n",
    "*Implement the required functionality.*"
   ]
  },
  {
   "cell_type": "code",
   "execution_count": 8,
   "metadata": {},
   "outputs": [
    {
     "name": "stdout",
     "output_type": "stream",
     "text": [
      "K-Means\n",
      "dsql> select type\n",
      "clustering\n",
      "classification\n",
      "regression\n",
      "regression\n",
      "dsql> select name type learning_type\n",
      "K-Means clustering unsupervised\n",
      "KNN classification supervised\n",
      "Lasso regression supervised\n",
      "SVR regression supervised\n",
      "dsql> exit\n",
      "Thanks for using dsql!\n"
     ]
    }
   ],
   "source": [
    "dsql_table = [\n",
    "    {'name': 'K-Means',    'type': 'clustering',     'learning_type': 'unsupervised'},\n",
    "    {'name': 'KNN',        'type': 'classification', 'learning_type': 'supervised'},\n",
    "    {'name': 'Lasso',      'type': 'regression',     'learning_type': 'supervised'},\n",
    "    {'name': 'SVR',        'type': 'regression',     'learning_type': 'supervised'},\n",
    "]\n",
    "\n",
    "def build_output(row, attributes):\n",
    "    return \" \".join([row[attr] for attr in attributes])\n",
    "\n",
    "# print build_output(dsql_table[0], ['name'])\n",
    "\n",
    "try:\n",
    "    query = raw_input('dsql> ')\n",
    "    \n",
    "    while query != 'exit':\n",
    "        # Write the required code here. remember, that input is a string, starting with 'select',\n",
    "        # followed by the attributes, which are the keys of the dictionaries in our table (dsql_table)\n",
    "        \n",
    "        # --- code start ---\n",
    "        if \"select\" not in query:\n",
    "            print \"We only support 'select' statements at this time.\"\n",
    "        else:\n",
    "            query_attributes = query.replace('select ',\"\").split(\" \")\n",
    "            for row in dsql_table:\n",
    "                print build_output(row, query_attributes)\n",
    "        \n",
    "        # --- code finish ---\n",
    "        \n",
    "        # show the prompt again, so that the user will be able to ask another query\n",
    "        # only exit by typing 'exit'\n",
    "        query = raw_input('dsql> ')\n",
    "    \n",
    "    print 'Thanks for using dsql!'\n",
    "except:\n",
    "    print 'Something went wrong! Please, try again.'"
   ]
  },
  {
   "cell_type": "markdown",
   "metadata": {},
   "source": [
    "### Excersise 4\n",
    "\n",
    "Reuse the code above, and recreate the excercise, but this time use classes. Instead of having a list of dictionaries, you will create an Algorithm class with 3 properties (name, type, learning_type), and populate the list with algorithm objects. You can actually use the list above to create a loop to populate your new list, with very few lines of code."
   ]
  },
  {
   "cell_type": "code",
   "execution_count": null,
   "metadata": {},
   "outputs": [
    {
     "name": "stdout",
     "output_type": "stream",
     "text": [
      "[<__main__.Algorithm object at 0x111d23f50>, <__main__.Algorithm object at 0x111d23e10>, <__main__.Algorithm object at 0x111d23f90>, <__main__.Algorithm object at 0x111d23fd0>]\n",
      "dsql> select name\n",
      "K-Means\n",
      "KNN\n",
      "Lasso\n",
      "SVR\n",
      "dsql> select name type\n",
      "K-Means clustering\n",
      "KNN classification\n",
      "Lasso regression\n",
      "SVR regression\n",
      "dsql> select name type learning_type\n",
      "K-Means clustering unsupervised\n",
      "KNN classification supervised\n",
      "Lasso regression supervised\n",
      "SVR regression supervised\n"
     ]
    }
   ],
   "source": [
    "class Algorithm(object):\n",
    "\n",
    "    def __init__(self, name, type, learning_type):\n",
    "        self.name = name\n",
    "        self.type = type\n",
    "        self.learning_type = learning_type\n",
    "        \n",
    "dsql_algorithm_table = [Algorithm(row['name'], row['type'], row['learning_type']) for row in dsql_table]\n",
    "\n",
    "def build_output(row, attributes):\n",
    "    return \" \".join([row[attr] for attr in attributes])\n",
    "\n",
    "#  print build_output(dsql_table[0], ['name'])\n",
    "# print \"Test accessing class attributes like dictionary instead of method call\"\n",
    "# print dsql_algorithm_table[0].name\n",
    "# DOESN'T WORK HERE BUT DOES ABOVE? print dsql_algorithm_table[0]['name']\n",
    "\n",
    "try:\n",
    "    query = raw_input('dsql> ')\n",
    "    \n",
    "    while query != 'exit':\n",
    "        # Write the required code here. remember, that input is a string, starting with 'select',\n",
    "        # followed by the attributes, which are the keys of the dictionaries in our table (dsql_table)\n",
    "        \n",
    "        # --- code start ---\n",
    "        if \"select\" not in query:\n",
    "            print \"We only support 'select' statements at this time.\"\n",
    "        else:\n",
    "            query_attributes = query.replace('select ',\"\").split(\" \")\n",
    "            for row in dsql_table:\n",
    "                print build_output(row, query_attributes)\n",
    "        \n",
    "        # --- code finish ---\n",
    "        \n",
    "        # show the prompt again, so that the user will be able to ask another query\n",
    "        # only exit by typing 'exit'\n",
    "        query = raw_input('dsql> ')\n",
    "    \n",
    "    print 'Thanks for using dsql!'\n",
    "except:\n",
    "    print 'Something went wrong! Please, try again.'\n",
    "        "
   ]
  },
  {
   "cell_type": "code",
   "execution_count": null,
   "metadata": {},
   "outputs": [],
   "source": []
  }
 ],
 "metadata": {
  "kernelspec": {
   "display_name": "Python 2",
   "language": "python",
   "name": "python2"
  },
  "language_info": {
   "codemirror_mode": {
    "name": "ipython",
    "version": 2
   },
   "file_extension": ".py",
   "mimetype": "text/x-python",
   "name": "python",
   "nbconvert_exporter": "python",
   "pygments_lexer": "ipython2",
   "version": "2.7.12"
  }
 },
 "nbformat": 4,
 "nbformat_minor": 2
}
